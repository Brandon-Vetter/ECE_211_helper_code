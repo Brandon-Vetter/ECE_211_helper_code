{
 "cells": [
  {
   "cell_type": "code",
   "execution_count": 5,
   "metadata": {},
   "outputs": [
    {
     "name": "stdout",
     "output_type": "stream",
     "text": [
      "V1 = 0.247094547707009\n",
      "V2 = 0.108721558683272\n",
      "V3 = 0.459373996566663\n",
      "V4 = 1.51880569041252\n",
      "\n",
      "VR1 = 1.48119430958748\n",
      "VR2 = 1.41008413172925\n",
      "VR3 = 0.108721558683272\n",
      "VR4 = 1.05943169384586\n",
      "VR5 = 0.138372989023737\n",
      "VR6 = 0.212279448859653\n",
      "VR7 = 0.212279448859653\n",
      "VR8 = 0.247094547707009\n",
      "\n",
      "CR1 = 1.13938023814421 mA\n",
      "CR2 = 0.176260516466156 mA\n",
      "CR3 = 0.453006494513634 mA\n",
      "CR4 = 0.963119721678056 mA\n",
      "CR5 = 0.276745978047474 mA\n",
      "CR6 = 0.176899540716378 mA\n",
      "CR7 = 0.786220180961679 mA\n",
      "CR8 = 0.686373743630581 mA\n",
      "\n",
      "LOOP VERIFICATION\n",
      "fade = 0\n",
      "abcd = 0\n",
      "agkh = 0\n",
      "edckj = 0\n"
     ]
    }
   ],
   "source": [
    "import numpy as np\n",
    "import scipy as sig\n",
    "from sympy import *\n",
    "import matplotlib.pyplot as plt\n",
    "\n",
    "Vs = 3\n",
    "R1 = 1.3E3\n",
    "R2 = 8E3\n",
    "R3 = .240E3\n",
    "R4 = 1.1E3\n",
    "R5 = .500E3\n",
    "R6 = 1.2E3\n",
    "R7 = .270E3\n",
    "R8 = .360E3\n",
    "\n",
    "RS = [R1, R2, R3, R4, R5, R6, R7, R8]\n",
    "\n",
    "A = Matrix([[-R6**-1 - R7**-1 - R5**-1 - R8**-1, R5**-1, R6**-1 + R7**-1,0, 0], \n",
    "           [R5**-1, -R2**-1 -R5**-1 - R3**-1,0,  R2**-1, 0],\n",
    "           [R6**-1 + R7**-1, 0, -R4**-1 - R7**-1 - R6**-1, R4**-1, 0],\n",
    "           [0, -R2**-1, -R4**-1, R1**-1 + R2**-1 + R4**-1, Vs*(R1**-1)]])\n",
    "\n",
    "Ar = A.rref()\n",
    "V1 = Ar[0][4]\n",
    "V2 = Ar[0][9]\n",
    "V3 = Ar[0][14]\n",
    "V4 = Ar[0][19]\n",
    "\n",
    "VR = [Vs-V4, V4-V2, V2, V4-V3, V1-V2, V3 - V1, V3 - V1, V1]\n",
    "\n",
    "print(f\"V1 = {V1}\")\n",
    "print(f\"V2 = {V2}\")\n",
    "print(f\"V3 = {V3}\")\n",
    "print(f\"V4 = {V4}\\n\")\n",
    "\n",
    "for i in range(len(VR)):\n",
    "    print(f\"VR{i+1} = {VR[i]}\")\n",
    "\n",
    "print()\n",
    "for i in range(len(VR)):\n",
    "    print(f\"CR{i+1} = {(VR[i]/RS[i]) * 1E3} mA\")\n",
    "    \n",
    "print()\n",
    "print(\"LOOP VERIFICATION\")\n",
    "\n",
    "print(f\"fade = {VR[0] + VR[1] + VR[2] - Vs}\")\n",
    "print(f\"abcd = {VR[3] + VR[5] + VR[4] - VR[1]}\")\n",
    "print(f\"agkh = {VR[5] - VR[6]}\")\n",
    "print(f\"edckj = {VR[2] + VR[4] - VR[7]}\")"
   ]
  }
 ],
 "metadata": {
  "kernelspec": {
   "display_name": "brandon",
   "language": "python",
   "name": "python3"
  },
  "language_info": {
   "codemirror_mode": {
    "name": "ipython",
    "version": 3
   },
   "file_extension": ".py",
   "mimetype": "text/x-python",
   "name": "python",
   "nbconvert_exporter": "python",
   "pygments_lexer": "ipython3",
   "version": "3.12.6"
  }
 },
 "nbformat": 4,
 "nbformat_minor": 2
}
